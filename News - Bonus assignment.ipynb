{
 "cells": [
  {
   "cell_type": "markdown",
   "metadata": {},
   "source": [
    "<div align=\"right\"><b><font face=\"Arial\" size=4 color=black>Jenish Vinodbhai Dhaduk</font></b></div>\n",
    "<div align=\"right\"><b><font face=\"Arial\" size=4 color=black> Student ID- 989354198 </font></b></div><br><br>\n",
    "<div align=\"center\"><font face=\"Arial\" size=8 color=black>Project Title - Bonus Assignment(news) </font></div><br><hr>"
   ]
  },
  {
   "cell_type": "markdown",
   "metadata": {},
   "source": [
    "<div style=\"background-color: #FFF8C6; border:1px solid #000; margin-left: 2px; margin-right: 2px; \n",
    "\n",
    "padding-bottom: 2px; padding-left: 2px; padding-right: 1px; padding-top: 10px;\">\n",
    "<center><b><font size=\"6\">Class 15 - Class Assignment</font></b></center>\n",
    "</div>"
   ]
  },
  {
   "cell_type": "code",
   "execution_count": 97,
   "metadata": {},
   "outputs": [],
   "source": [
    "import newspaper\n",
    "from newspaper import Article\n",
    "import nltk\n",
    "from IPython.display import Image\n",
    "\n",
    "# Preparation for matplotlib\n",
    "%matplotlib inline "
   ]
  },
  {
   "cell_type": "code",
   "execution_count": 98,
   "metadata": {},
   "outputs": [],
   "source": [
    "class color:\n",
    "   PURPLE = '\\033[95m'\n",
    "   CYAN = '\\033[96m'\n",
    "   DARKCYAN = '\\033[36m'\n",
    "   BLUE = '\\033[94m'\n",
    "   GREEN = '\\033[92m'\n",
    "   YELLOW = '\\033[93m'\n",
    "   RED = '\\033[91m'\n",
    "   BOLD = '\\033[1m'\n",
    "   UNDERLINE = '\\033[4m'\n",
    "   END = '\\033[0m'"
   ]
  },
  {
   "cell_type": "code",
   "execution_count": 99,
   "metadata": {},
   "outputs": [
    {
     "data": {
      "application/javascript": [
       "require(\n",
       "        [\"notebook/js/outputarea\"],\n",
       "        function (oa) {\n",
       "            oa.OutputArea.auto_scroll_threshold = -1;\n",
       "            console.log(\"Setting auto_scroll_threshold to -1\");\n",
       "        });\n"
      ],
      "text/plain": [
       "<IPython.core.display.Javascript object>"
      ]
     },
     "metadata": {},
     "output_type": "display_data"
    }
   ],
   "source": [
    "%%javascript\n",
    "require(\n",
    "        [\"notebook/js/outputarea\"],\n",
    "        function (oa) {\n",
    "            oa.OutputArea.auto_scroll_threshold = -1;\n",
    "            console.log(\"Setting auto_scroll_threshold to -1\");\n",
    "        });"
   ]
  },
  {
   "cell_type": "markdown",
   "metadata": {},
   "source": [
    "<blockquote style=\"border: 2px solid #666; padding: 10px; background-color: #ccc;\"><b>Question 1:</b> \n",
    "Newspaper Info Retrieval</blockquote>"
   ]
  },
  {
   "cell_type": "markdown",
   "metadata": {},
   "source": [
    "<b><font color=\"blue\", size = 4>a)</font></b> Select any newspaper of your choice. Build your newspaper"
   ]
  },
  {
   "cell_type": "markdown",
   "metadata": {},
   "source": [
    "<span style=\"background-color: #FFFF00\">Your answer here</span>"
   ]
  },
  {
   "cell_type": "code",
   "execution_count": 100,
   "metadata": {},
   "outputs": [
    {
     "name": "stdout",
     "output_type": "stream",
     "text": [
      "Successfully retrieved 92 articles from https://www.sfchronicle.com/\n",
      "Exclusive Bay Area and San Francisco breaking news, sports, tech, and food and wine coverage, plus enhanced coverage of Giants, 49ers and Warriors\n"
     ]
    }
   ],
   "source": [
    "my_news_website = \"https://www.sfchronicle.com/\"\n",
    "my_newspaper = newspaper.build(my_news_website, memoize_articles=False)\n",
    "num_articles = len(my_newspaper.articles)\n",
    "if num_articles > 15: \n",
    "    print (\"Successfully retrieved\", num_articles, \"articles from\", my_news_website)\n",
    "    print(my_newspaper.description)\n",
    "else:\n",
    "    print (\"There are just\", num_articles, \"in your selected site. I suggest you select another news site\")"
   ]
  },
  {
   "cell_type": "markdown",
   "metadata": {},
   "source": [
    "<b><font color=\"blue\", size = 4>b)</font></b> Create a structure of your choice (you can use a list of dictionaries or something else) to store the information about all articles in your selected newspaper"
   ]
  },
  {
   "cell_type": "markdown",
   "metadata": {},
   "source": [
    "<span style=\"background-color: #FFFF00\">Your answer here</span>"
   ]
  },
  {
   "cell_type": "code",
   "execution_count": 101,
   "metadata": {},
   "outputs": [
    {
     "name": "stdout",
     "output_type": "stream",
     "text": [
      "0 ) The Fisherman’s Secret: A modern-day treasure hunt\n",
      "1 ) eBookIt.com Bookstore: The Fisherman's Secret (audiobook)\n",
      "2 ) San Francisco Voter Guide: What you need to know for the 2019 election\n",
      "3 ) Voices of Loma Prieta earthquake: Stories from the 1989 Bay Area temblor\n",
      "4 ) New album, concert featuring Stone Foxes, Brother Comatose and others aims to provide aid to Bay Area’s homeless\n",
      "5 ) Scorsese and Coppola are right — the Marvel Comics movies are ‘not cinema’\n",
      "6 ) Bill Owens photographed the Hells Angels at Altamont, then hid for 49 years\n",
      "7 ) Bedridden for decades, Berkeley’s Daniel Rudman returns to theater\n",
      "8 ) ‘This isn’t a feel-good movie’: ‘Fire in Paradise’ doc a cautionary tale\n",
      "9 ) Review: ‘Motherless Brooklyn’ is so amazingly bad it’s almost worth seeing\n",
      "10 ) Review: Scorsese’s ‘Irishman’ is a masterpiece, the end of an era for mob movies\n",
      "11 ) Review: Magic trick tells 150 years of Japanese American history in ‘Jap Box’\n",
      "12 ) Review: ‘Terminator: Dark Fate’ needs more Schwarzenegger and Hamilton, less pointless mayhem\n",
      "13 ) Review: The pulse quickens watching ‘Entre Tú y Yo,’ but frustration builds\n",
      "14 ) Why poetry? Learning to get it, with an assist from Jane Hirshfield\n",
      "15 ) Harry Potter and the Cursed Child Comes To San Francisco EXPERIENCE THE MAGIC ON STAGE IN SAN FRANCISCO\n",
      "16 ) ‘Image Makers’ recalls SF ballplayer who was Chaplin’s personal cameraman\n",
      "17 ) New Century Chamber Orchestra with Simone Dinnerstein\n",
      "18 ) Diablo Ballet: A Swingin’ Holiday & More\n",
      "19 ) 12 Bay Area concerts to get you into the holiday spirit\n",
      "20 ) Magic on the stage this fall in the Bay Area\n",
      "21 ) 10 San Francisco spots to toast to this fall\n",
      "22 ) California Streamin’: ‘Sarah Connor Chronicles’ was ahead of its time (travel)\n",
      "23 ) Review: Michael Nyman’s music excavates old instruments, but the mix is off\n",
      "24 ) Meet the Peaches Crew, the Bay Area DJ collective that puts ladies first\n",
      "25 ) Peaches Crew marks 10 years of turning the tables in male-dominated DJ scene\n",
      "26 ) Why you should see theater in languages you don’t speak\n",
      "27 ) Works by Pollock, de Kooning donated to Stanford’s Anderson Collection\n",
      "28 ) Oakland Museum’s ‘Burning Man’ exhibition tries retelling a dream\n",
      "29 ) Snow still falls on ‘Nutcracker’ 75 years after it started at San Francisco opera house\n",
      "30 ) Dancing with a ghost: Bay Area artists honor Merce Cunningham\n",
      "31 ) Review: SF Symphony takes a weary trudge through Shostakovich’s wartime opus\n",
      "32 ) Review: Berkeley Symphony launches new era with music by a hometown figure\n",
      "33 ) Casting of SF Opera’s ‘Figaro’ lays bare the racial fault lines in opera\n",
      "34 ) Cat Marnell and audiences’ fascination with the enfant terrible\n",
      "35 ) Review: Tamim Ansary’s ‘Yesterday’ shows us how the present reflects the past\n",
      "36 ) Why witches are back and bigger than ever in pop culture and San Francisco\n",
      "37 ) Amid scary blackouts and wildfires, this home has all treats, no tricks\n",
      "38 ) Mary Margaret ‘Moo’ Anderson, modern art collector and benefactor, dead at 92\n",
      "39 ) Explore California’s newest AVA, the Petaluma Gap\n",
      "40 ) Napa’s liveliest tasting room? It may be Housley\n",
      "41 ) Explore California’s newest AVA, the Petaluma Gap\n",
      "42 ) The Miracle Cell: Hope and reality of stem cell therapy\n",
      "43 ) California's stem cell bet: After 14 years and $3 billion, has it paid off?\n",
      "44 ) \n",
      "45 ) Stem cell market: Inside California's flourishing for-profit clinics\n",
      "46 ) In search of a miracle: Stem cells are a mother's last hope to heal her son\n",
      "47 ) The Miracle Cell: Hope and reality of stem cell therapy\n",
      "48 ) SF Giants\n",
      "49 ) GREENSTATE: navigating the new Cannabis culture\n",
      "50 ) Apollo 11: 50TH ANNIVERSARY - 7/20/19 cover\n",
      "51 ) Chronicle's Little Man \"Exuberant Clapping\" Pocket T-shirt\n",
      "52 ) San Francisco Chronicle - Top 100 Restaurants 2019\n",
      "53 ) SF Giants 2010 World Series Win T-shirt\n",
      "54 ) SF Giants 2012 World Series Sweep T-shirt\n",
      "55 ) SF Giants 2014 World Series Dynasty T-shirt\n",
      "56 ) Warriors 2019 NBA Finals Preview T-shirt\n",
      "57 ) Warriors 2019 NBA Finals Preview - 5/30/19 sporting green cover\n",
      "58 ) Warriors 2019 NBA Finals Preview Sporting Green - 5/30/19 newspaper\n",
      "59 ) The Press - The 2019 Wine Country Guide\n",
      "60 ) 2018 Year in Pictures Magazine\n",
      "61 ) IN THE KITCHEN - Recipes from the Bay Area's Best Chefs | 2018\n",
      "62 ) Preparing for Disaster - a guide to surviving the next big fire or quake\n",
      "63 ) Warriors THE OAKLAND YEARS magazine\n",
      "64 ) The Press - The 2018 Wine Country Guide\n",
      "65 ) Chronicle's Little Man T-shirt - Pick Your Rating\n",
      "66 ) Chronicle's Little Man \"All Poses\" T-shirt\n",
      "67 ) Warriors 2018 NBA Authentic Framed PRESS PLATE - Golden Dynasty Finals 6/9/18 newspaper\n",
      "68 ) WARRIORS 2015, 2017 & 2018 CHAMPIONSHIP WINS\n",
      "69 ) Warriors 2018 NBA win display print\n",
      "70 ) WARRIORS 1975, 2015, 2017 & 2018 CHAMPIONSHIP WINS\n",
      "71 ) Warriors 2018 NBA Commemorative Edition - 6/14/18 cover\n",
      "72 ) Warriors 2018 NBA Commemorative Edition T-shirt\n",
      "73 ) Warriors 2018 NBA Commemorative Edition newspaper - 6/14/18\n",
      "74 ) San Francisco Chronicle online store\n",
      "75 ) Warriors 2018 NBA PARADE extra - 6/12/18 newspaper cover print\n",
      "76 ) WARRIORS 2018 NBA Championship PUZZLES\n",
      "77 ) Warriors 2018 NBA Golden Dynasty Game 4 Championship T-shirt\n",
      "78 ) Warriors 2018 NBA Finals Preview - 5/31/18 sporting green cover\n",
      "79 ) Warriors 2018 NBA Finals Preview T-shirt\n",
      "80 ) Warriors 2018 NBA Golden Dynasty Finals - 6/9/18 Commemorative newspaper cover\n",
      "81 ) Warriors 2018 NBA Finals Game 1 - 6/1/18 newspaper cover\n",
      "82 ) Warriors 2018 NBA Finals Game 2 - 6/4/18 newspaper cover\n",
      "83 ) Warriors 2018 NBA Western Conference Finals Game 7 win - 5/29/18 sporting green cover\n",
      "84 ) Warriors 2018 NBA Western Conference Finals Game 7 win - 5/29/18 newspaper cover\n",
      "85 ) Warriors 2018 NBA Finals Game 4 Sweep - 6/9/18 sporting green cover\n",
      "86 ) Warriors 2018 NBA Finals Game 3 - 6/7/18 sporting green cover\n",
      "87 ) Warriors 2018 NBA Finals Game 2 - 6/4/18 sporting green cover\n",
      "88 ) Warriors 2018 NBA Finals Game 1 - 6/1/18 Sporting green cover\n",
      "89 ) San Francisco Chronicle - Top 100 Restaurants 2018\n",
      "90 ) WARRIORS POSTER - STEPHEN CURRY STATS @ 30\n",
      "91 ) The Rainbow of Cesar Chavez Park\n"
     ]
    }
   ],
   "source": [
    "article_list = []\n",
    "index = 0\n",
    "for art in my_newspaper.articles:\n",
    "    try:\n",
    "        article = Article(art.url)\n",
    "        article.download()\n",
    "        article.parse()\n",
    "        article.nlp()\n",
    "        print(index, \")\", article.title)\n",
    "        index += 1\n",
    "\n",
    "        temp_dict= {}\n",
    "        temp_dict[\"url\"] = article.url\n",
    "        temp_dict[\"title\"] = article.title\n",
    "        temp_dict[\"summary\"] = article.summary\n",
    "        temp_dict[\"keywords\"] = article.keywords\n",
    "        temp_dict[\"text\"] = article.text\n",
    "        temp_dict[\"top_image\"] = article.top_image\n",
    "        temp_dict[\"images\"] = article.images\n",
    "        temp_dict[\"date\"] = article.publish_date\n",
    "        temp_dict[\"authors\"] = article.authors\n",
    "        article_list.append(temp_dict)\n",
    "    except:\n",
    "        print (\"Error with the url\")"
   ]
  },
  {
   "cell_type": "markdown",
   "metadata": {},
   "source": [
    "<b><font color=\"blue\", size = 4>c)</font></b> Print urls, top image and summaries of all articles with more than 500 words"
   ]
  },
  {
   "cell_type": "markdown",
   "metadata": {},
   "source": [
    "<span style=\"background-color: #FFFF00\">Your answer here</span>"
   ]
  },
  {
   "cell_type": "code",
   "execution_count": 102,
   "metadata": {
    "scrolled": true
   },
   "outputs": [
    {
     "name": "stdout",
     "output_type": "stream",
     "text": [
      "1 ) eBookIt.com Bookstore: The Fisherman's Secret (audiobook)\n"
     ]
    },
    {
     "data": {
      "text/html": [
       "<img src=\"https://www.dowellwebtools.com/images/dowell/Bo/studio/pm/0000006787-ElementCompBDPGF-small.jpg\"/>"
      ],
      "text/plain": [
       "<IPython.core.display.Image object>"
      ]
     },
     "metadata": {},
     "output_type": "display_data"
    },
    {
     "name": "stdout",
     "output_type": "stream",
     "text": [
      "By Tara Duggan and Jason Fagone.\n",
      "This audiobook is available in the following downloadable formats: a .zip file containing multiple .mp3 files, .m4b files for Apple devices (iTunes, iPhone, etc.\n",
      "Then one night, unable to sleep, Joe watched a video he’d made of the ocean floor from cameras attached to his boat’s massive net.\n",
      "But Joe discovers that glimpsing a potential treasure is one thing; actually pulling it from the ocean floor is another.\n",
      "San Francisco Chronicle reporters Tara Duggan and Jason Fagone follow Joe on his real-life, modern-day treasure hunt.\n",
      "2 ) San Francisco Voter Guide: What you need to know for the 2019 election\n"
     ]
    },
    {
     "data": {
      "text/html": [
       "<img src=\"https://s.hdnux.com/photos/0/0/0/18357222/0/1200x0.jpg\"/>"
      ],
      "text/plain": [
       "<IPython.core.display.Image object>"
      ]
     },
     "metadata": {},
     "output_type": "display_data"
    },
    {
     "name": "stdout",
     "output_type": "stream",
     "text": [
      "A would allow the city to sell $600 million worth of bonds to build, rehabilitate or acquire affordable housing in San Francisco.\n",
      "Read more on Proposition A See the Chronicle’s endorsementProposition B Sponsored by Board of Supervisors President Norman Yee, Prop.\n",
      "If the measure passes, the Department of Aging and Adult Services would become the Department of Disability and Aging Services.\n",
      "Read more on Proposition C See the Chronicle’s endorsementProposition D In an effort to ease some of San Francisco’s crippling traffic congestion, Prop.\n",
      "Read more on Proposition D See the Chronicle’s endorsementProposition E Prop.\n",
      "4 ) New album, concert featuring Stone Foxes, Brother Comatose and others aims to provide aid to Bay Area’s homeless\n"
     ]
    },
    {
     "data": {
      "text/html": [
       "<img src=\"https://s3.amazonaws.com/sfc-datebook-wordpress/wp-content/uploads/sites/2/2019/11/MER69ab6646949f19a8d57dd4b2892abblanket1106-700x500.jpg\"/>"
      ],
      "text/plain": [
       "<IPython.core.display.Image object>"
      ]
     },
     "metadata": {},
     "output_type": "display_data"
    },
    {
     "name": "stdout",
     "output_type": "stream",
     "text": [
      "“Blanket the Homeless,” an album named after the organization, debuts Thursday, Nov. 7, during a benefit concert at the Independent.\n",
      "“We now can have that money (from album sales) filter directly into care packages that will be handed out to the community.\n",
      "During that time they’d busk, crack jokes and raise money for the homeless in honor of Robin Williams.\n",
      "“I try to make that point at my shows when I give out our Blanket the Homeless packages.\n",
      "And I tell people, ‘Next time you come across a homeless person, cold in the night, wherever, give them this package.’“Nobody deserves to be invisible.”“Blanket the Homeless” album release and benefit concert: 8 p.m. Thursday, Nov. 7.\n",
      "5 ) Scorsese and Coppola are right — the Marvel Comics movies are ‘not cinema’\n"
     ]
    },
    {
     "data": {
      "text/html": [
       "<img src=\"https://s3.amazonaws.com/sfc-datebook-wordpress/wp-content/uploads/sites/2/2019/10/MERc5c987df44ce483fe01ad8b2b6d1blasallecol1117-700x500.jpg\"/>"
      ],
      "text/plain": [
       "<IPython.core.display.Image object>"
      ]
     },
     "metadata": {},
     "output_type": "display_data"
    },
    {
     "name": "stdout",
     "output_type": "stream",
     "text": [
      "Martin Scorsese and Francis Ford Coppola created controversy recently, as people often will when they tell the truth.\n",
      "Scorsese said that the Marvel Comics superhero movies are “not cinema,” and Coppola used the word “despicable” in connection with them.\n",
      "Needless to say, this occasioned a spasm of ageism across the internet, directed at Scorsese, who is 76, and Coppola, who is 80.\n",
      "Did your great-uncle direct “The Godfather” or “The Wolf of Wall Street?” Because otherwise, the only thing the great-uncle, the grandfathers, Scorsese and Coppola have in common is being old.\n",
      "With the superhero movies, we have something different.\n",
      "6 ) Bill Owens photographed the Hells Angels at Altamont, then hid for 49 years\n"
     ]
    },
    {
     "data": {
      "text/html": [
       "<img src=\"https://s3.amazonaws.com/sfc-datebook-wordpress/wp-content/uploads/sites/2/2019/10/MER1528635f44e14ac2ac36cfc9dc901altamont1201-700x500.jpg\"/>"
      ],
      "text/plain": [
       "<IPython.core.display.Image object>"
      ]
     },
     "metadata": {},
     "output_type": "display_data"
    },
    {
     "name": "stdout",
     "output_type": "stream",
     "text": [
      "Owens revealed that he’s been hiding from the Hells Angels for nearly 50 years.\n",
      "Now he’s finally got up the nerve to publish a monograph under the fearless title “Bill Owens: Altamont 1969” (Damiani, $40).\n",
      "The Hells Angels pushed the guy off the stage, and one guy jumped off the stage behind him with his pool cue to beat him.\n",
      "“That’s why I still fear the Hells Angels,” he says.\n",
      "Those are combined in “Bill Owens: Altamont 1969.”Related articlesBill Owens’ ‘Suburbia’ still mesmerizing 45 years later1968 Black Panther show at de Young Museum re-created at Art InstituteDocumentary celebrates artistry of photography master Garry Winogrand\n",
      "7 ) Bedridden for decades, Berkeley’s Daniel Rudman returns to theater\n"
     ]
    },
    {
     "data": {
      "text/html": [
       "<img src=\"https://s3.amazonaws.com/sfc-datebook-wordpress/wp-content/uploads/sites/2/2019/10/MERa068824c3486c9a7dfe83216dc02arudman1018-700x500.jpg\"/>"
      ],
      "text/plain": [
       "<IPython.core.display.Image object>"
      ]
     },
     "metadata": {},
     "output_type": "display_data"
    },
    {
     "name": "stdout",
     "output_type": "stream",
     "text": [
      "Playwright Daniel Rudman doesn’t consider himself “inspirational,” and he doesn’t want you to think of him that way.\n",
      "Four decades ago, Rudman was an “up-and-coming playwright” — he guesses he can call himself that.\n",
      "Rudman, 75, is gruff, a New York native with a boroughs (he grew up in Brooklyn and Queens) accent, and wiry.\n",
      "Rudman moved to the Bay Area 50 years ago, initially getting into political theater as a means of protesting the Vietnam War.\n",
      "Do you really know anybody?”As audiences file out from the reading, Rudman says, “I’m in another world.\n",
      "8 ) ‘This isn’t a feel-good movie’: ‘Fire in Paradise’ doc a cautionary tale\n"
     ]
    },
    {
     "data": {
      "text/html": [
       "<img src=\"https://s3.amazonaws.com/sfc-datebook-wordpress/wp-content/uploads/sites/2/2019/10/MER8bd8d28eb47b6928ae50667c7c4cfparadise1101_ph2-700x500.jpg\"/>"
      ],
      "text/plain": [
       "<IPython.core.display.Image object>"
      ]
     },
     "metadata": {},
     "output_type": "display_data"
    },
    {
     "name": "stdout",
     "output_type": "stream",
     "text": [
      "“I think it’s important to remember that California’s always had really bad fires, right?” Norman says.\n",
      "“I just don’t think that there’s a way for a camera to visualize exactly how demolished the town was,” says Cooper.\n",
      "“The film does an amazing job at capturing the desperation we all felt that day,” Norman says.\n",
      "It is a cautionary tale that warns people about the gravity of what California is facing.\n",
      "I’m blown away by how well they were able to this film together.”“Fire in Paradise” can be streamed on Netflix.\n",
      "9 ) Review: ‘Motherless Brooklyn’ is so amazingly bad it’s almost worth seeing\n"
     ]
    },
    {
     "data": {
      "text/html": [
       "<img src=\"https://s3.amazonaws.com/sfc-datebook-wordpress/wp-content/uploads/sites/2/2019/10/MERb37744e1249af9080861dfa5cc71fnorton1030-700x500.jpg\"/>"
      ],
      "text/plain": [
       "<IPython.core.display.Image object>"
      ]
     },
     "metadata": {},
     "output_type": "display_data"
    },
    {
     "name": "stdout",
     "output_type": "stream",
     "text": [
      "Someday, not now, but soon, you should make a point of seeing “Motherless Brooklyn.” No, not the whole thing — no one deserves that kind of punishment.\n",
      "Based on the novel by Jonathan Lethem, “Motherless Brooklyn” has been a dream project of Edward Norton’s for the better part of two decades.\n",
      "In this early scene, Lionel and an associate are there to lend protection, if needed, to their boss, who’s played by Bruce Willis.\n",
      "Even if we’re happy that he stopped, we’re dreading and expecting him to do it again, and in “Motherless Brooklyn,” he always does it again.\n",
      "Movie Details Find Showtimes Motherless Brooklyn Mystery R\n",
      "10 ) Review: Scorsese’s ‘Irishman’ is a masterpiece, the end of an era for mob movies\n"
     ]
    },
    {
     "data": {
      "text/html": [
       "<img src=\"https://s3.amazonaws.com/sfc-datebook-wordpress/wp-content/uploads/sites/2/2019/11/MER42de693b14a6aa63a42ae45bffd18irishman1108-700x500.jpg\"/>"
      ],
      "text/plain": [
       "<IPython.core.display.Image object>"
      ]
     },
     "metadata": {},
     "output_type": "display_data"
    },
    {
     "name": "stdout",
     "output_type": "stream",
     "text": [
      "Thus, we get the Italian-American holy trinity of Robert De Niro, Joe Pesci and Al Pacino — plus, in a smaller role, honorary Italian Harvey Keitel — in a Scorsese gangster movie.\n",
      "And not just any gangster movie.\n",
      "“The Irishman” is a 209-minute epic that, through the criminal career of gangster Frank Sheeran, covers about 20 years of mafia history.\n",
      "So does Bobby Kennedy, and there’s even an allusion to gangster Joe Columbo’s Italian-American Civil Rights League in the early 1970s.\n",
      "He’s a hitman for his mob mentor, Pennsylvania mob boss Russell Bufalino, a subdued, gentlemanly character, played by Joe Pesci with watchfulness and restraint.\n",
      "11 ) Review: Magic trick tells 150 years of Japanese American history in ‘Jap Box’\n"
     ]
    },
    {
     "data": {
      "text/html": [
       "<img src=\"https://s3.amazonaws.com/sfc-datebook-wordpress/wp-content/uploads/sites/2/2019/10/MERf6681f8e64514968516591937af65box1104-700x500.jpg\"/>"
      ],
      "text/plain": [
       "<IPython.core.display.Image object>"
      ]
     },
     "metadata": {},
     "output_type": "display_data"
    },
    {
     "name": "stdout",
     "output_type": "stream",
     "text": [
      "Storytelling helps us see and fathom that which would otherwise be too big for our human brains to handle.\n",
      "When as a boy Hirata looked at the underside of the prop on shelves in magic shops, the appropriation continued.\n",
      "What once stood for pain and hope now creates something beautiful — another kind of magic trick.\n",
      "Sumidagawa went back to Japan, while Tobias and other white magicians continued to profit in the States off Sumidagawa’s invention.\n",
      "What story more pithily encapsulates the way American white supremacy uses and abuses, leeches off and rips off?\n",
      "12 ) Review: ‘Terminator: Dark Fate’ needs more Schwarzenegger and Hamilton, less pointless mayhem\n"
     ]
    },
    {
     "data": {
      "text/html": [
       "<img src=\"https://s3.amazonaws.com/sfc-datebook-wordpress/wp-content/uploads/sites/2/2019/10/MERfeb5cfe0848d2a3266d54237cb007terminator1101-700x500.jpg\"/>"
      ],
      "text/plain": [
       "<IPython.core.display.Image object>"
      ]
     },
     "metadata": {},
     "output_type": "display_data"
    },
    {
     "name": "stdout",
     "output_type": "stream",
     "text": [
      "If only “Terminator: Dark Fate” were a little more enjoyable …But wait, let’s talk about the good things in this film.\n",
      "The rest of “Terminator: Dark Fate” is rote, something to be endured more than enjoyed.\n",
      "In the end, the great fault of “Terminator: Dark Fate” is that the filmmakers didn’t trust what they had.\n",
      "Starring Arnold Schwarzenegger, Linda Hamilton, Mackenzie Davis and Natalia Reyes.\n",
      "Movie Details Find Showtimes Terminator: Dark Fate Science fiction\n",
      "13 ) Review: The pulse quickens watching ‘Entre Tú y Yo,’ but frustration builds\n"
     ]
    },
    {
     "data": {
      "text/html": [
       "<img src=\"https://s3.amazonaws.com/sfc-datebook-wordpress/wp-content/uploads/sites/2/2019/11/MERd04add28f45d2b66052654b536302flamenca1104-700x500.jpg\"/>"
      ],
      "text/plain": [
       "<IPython.core.display.Image object>"
      ]
     },
     "metadata": {},
     "output_type": "display_data"
    },
    {
     "name": "stdout",
     "output_type": "stream",
     "text": [
      "In its oscillations between stillness and explosive motion, impacted energy and its liberating release, the program both rivets and frustrates.\n",
      "Even the urgently impassioned singing is double-edged — exciting to hear while the abundant lyrics remain inaccessible to the Spanish-impaired.\n",
      "But unlike that effervescent 1903 play, which tweaked conventional morality with a daisy chain of linked sexual encounters, “Entre Tú y Yo” plays like a series of separate and disjointed scenes.\n",
      "The accumulating heat Noche Flamenca generated in its “Antigona” here in 2017 doesn’t build through this nearly hour-long work.\n",
      "“Entre Tú y Yo”: Dance by Noche Flamenca.\n",
      "14 ) Why poetry? Learning to get it, with an assist from Jane Hirshfield\n"
     ]
    },
    {
     "data": {
      "text/html": [
       "<img src=\"https://s3.amazonaws.com/sfc-datebook-wordpress/wp-content/uploads/sites/2/2019/11/litmap13-700x500.jpg\"/>"
      ],
      "text/plain": [
       "<IPython.core.display.Image object>"
      ]
     },
     "metadata": {},
     "output_type": "display_data"
    },
    {
     "name": "stdout",
     "output_type": "stream",
     "text": [
      "Recently, I was fortunate to get a private mini-tutorial from Hirshfield, a condensed Poetry 101.\n",
      "The sound of poetry is crucial, she says, especially when it’s read by the poet.\n",
      "That’s why poetry readings are a great way to experience the form if you’re just getting your feet wet.\n",
      "Hirshfield accuses “bad pedagogy” of killing poetry for many of us.\n",
      "And all on my own I found Pablo Neruda’s “Poetry,” a perfect poem for this poetry neophyte.\n",
      "15 ) Harry Potter and the Cursed Child Comes To San Francisco EXPERIENCE THE MAGIC ON STAGE IN SAN FRANCISCO\n"
     ]
    },
    {
     "data": {
      "text/html": [
       "<img src=\"https://s3.amazonaws.com/sfc-datebook-wordpress/wp-content/uploads/sites/2/2019/03/04-Harry-Potter-and-the-Cursed-Child-%E2%80%93-NYC-Photo-By-Matthew-Murphy-700x500.jpg\"/>"
      ],
      "text/plain": [
       "<IPython.core.display.Image object>"
      ]
     },
     "metadata": {},
     "output_type": "display_data"
    },
    {
     "name": "stdout",
     "output_type": "stream",
     "text": [
      "Harry Potter and the Cursed Child Comes To San Francisco EXPERIENCE THE MAGIC ON STAGE IN SAN FRANCISCOHarry Potter and the Cursed Child Comes to San FranciscoEXPERIENCE THE MAGIC ON STAGE IN SAN FRANCISCOExperience J.K. Rowling’s magical universe like never before at the international hit stage production Harry Potter and the Cursed Child.\n",
      "The story of Harry, Ron and Hermione continues on stage—where the magic is real.\n",
      "Entertainment Weekly says Harry Potter and the Cursed Child “conjures the impossible!\n",
      "The exclusive West Coast production will begin performances at the Curran Theater in San Francisco on Wednesday, October 23, 2019.\n",
      "Tickets for the West Coast production of Harry Potter and the Cursed Child are currently on sale through June 20, 2020, at HarryPotterOnStage.com or in person at the Curran Theater box office.\n",
      "16 ) ‘Image Makers’ recalls SF ballplayer who was Chaplin’s personal cameraman\n"
     ]
    },
    {
     "data": {
      "text/html": [
       "<img src=\"https://s3.amazonaws.com/sfc-datebook-wordpress/wp-content/uploads/sites/2/2019/11/MER743f89df54cfd8166b7d121abbebbimagemakers1106_ph3-700x500.jpg\"/>"
      ],
      "text/plain": [
       "<IPython.core.display.Image object>"
      ]
     },
     "metadata": {},
     "output_type": "display_data"
    },
    {
     "name": "stdout",
     "output_type": "stream",
     "text": [
      "The film, written by former San Francisco Examiner film critic Michael Sragow, traces the creation of a new language — the language of cinema — by pioneers whose influence endures to this day.\n",
      "In 1914, Totheroh was sent to the Hayward train station to pick up Essanay’s newest star.\n",
      "Soon, Totheroh was Chaplin’s personal cameraman, because he was able to keep up with Chaplin’s complicated and fast-moving blocking and provide perfect framing.\n",
      "Playing baseball, Sragow said, “was probably the best preparation for being Charlie Chaplin’s long-term collaborator because Rollie was a team player.\n",
      "“It’s really amazing the different roads these guys took to get in the industry,” Sragow said.\n",
      "17 ) New Century Chamber Orchestra with Simone Dinnerstein\n"
     ]
    },
    {
     "data": {
      "text/html": [
       "<img src=\"https://s3.amazonaws.com/sfc-datebook-wordpress/wp-content/uploads/sites/2/2019/10/MER2018043019065734kosman1107_ncco-700x500.jpg\"/>"
      ],
      "text/plain": [
       "<IPython.core.display.Image object>"
      ]
     },
     "metadata": {},
     "output_type": "display_data"
    },
    {
     "name": "stdout",
     "output_type": "stream",
     "text": [
      "Over the past decade or so, pianist Simone Dinnerstein has established herself as an idiosyncratic but often mesmerizing interpreter of Bach’s music.\n",
      "In live performances and a series of powerful recordings, she has adopted an approach to this music that is at once philosophical and expressive, bringing out the underlying wisdom in bursts of aphoristic urgency.\n",
      "For her upcoming all-Bach appearances with the New Century Chamber Orchestra, Dinnerstein is scheduled to play the dual role of soloist and orchestral leader.\n",
      "She and the orchestra plan to collaborate on a trio of keyboard concertos as well as the Fifth “Brandenburg” Concerto, in which the keyboard also takes to the spotlight.\n",
      "18 ) Diablo Ballet: A Swingin’ Holiday & More\n"
     ]
    },
    {
     "data": {
      "text/html": [
       "<img src=\"https://s3.amazonaws.com/sfc-datebook-wordpress/wp-content/uploads/sites/2/2019/11/UpFronts1103DIABLO-700x500.jpg\"/>"
      ],
      "text/plain": [
       "<IPython.core.display.Image object>"
      ]
     },
     "metadata": {},
     "output_type": "display_data"
    },
    {
     "name": "stdout",
     "output_type": "stream",
     "text": [
      "Christmas festivities seem to annoyingly creep earlier and earlier each year.\n",
      "But Bay Area dance fans may welcome this early treat.\n",
      "Diablo Ballet tapped Broadway choreographer Sean Kelly for “A Swingin’ Holiday & More,” a show inspired by music of the 1930s and ’40s performed live by the 16-piece Diablo Ballet Swing Orchestra.\n",
      "This year’s edition includes a short new twist on “Nutcracker” choreographed by Julia Adam, well known as a former San Francisco Ballet principal-turned-nationally commissioned choreographer.\n",
      "Each show includes a dessert and coffee post-performance reception for mingling with the dancers.\n",
      "19 ) 12 Bay Area concerts to get you into the holiday spirit\n"
     ]
    },
    {
     "data": {
      "text/html": [
       "<img src=\"https://s3.amazonaws.com/sfc-datebook-wordpress/wp-content/uploads/sites/2/2019/10/MER2018110114353128GUIDE1110_HOLIDAY-700x500.jpg\"/>"
      ],
      "text/plain": [
       "<IPython.core.display.Image object>"
      ]
     },
     "metadata": {},
     "output_type": "display_data"
    },
    {
     "name": "stdout",
     "output_type": "stream",
     "text": [
      "Here are The Chronicle’s picks for the events that will make your days merry and bright, and leave your ears ringing through the night:Dare to Love: The Glide Annual Holiday JamThis annual holiday concert benefits Glide’s Daily Free Meals program and other local services.\n",
      "The Masonic, 1111 California St., S.F.\n",
      "Great American Music Hall, 859 O’Farrell St., S.F.\n",
      "www.ticketfly.com99.7 Now PoptopiaThere’s nothing better than a holiday hit parade.\n",
      "www.thechapelsf.comKMEL Holiday House of Soul 2019Sir, the Inglewood rapper and vocalist who scored a hit with “Hair Down,” featuring an assist from Kendrick Lamar, is set to headline radio station KMEL’s annual holiday concert.\n",
      "20 ) Magic on the stage this fall in the Bay Area\n"
     ]
    },
    {
     "data": {
      "text/html": [
       "<img src=\"https://s3.amazonaws.com/sfc-datebook-wordpress/wp-content/uploads/sites/2/2019/03/62778317_DATEBOOK_potter0312-700x500.jpg\"/>"
      ],
      "text/plain": [
       "<IPython.core.display.Image object>"
      ]
     },
     "metadata": {},
     "output_type": "display_data"
    },
    {
     "name": "stdout",
     "output_type": "stream",
     "text": [
      "And then there’s a certain wizard you might have heard of who’s making his Bay Area stage debut at the Curran.\n",
      "Exit Theatre, 156 Eddy St., S.F.\n",
      "Potrero Stage, 1695 18th St., S.F.\n",
      "Magic Theatre, Fort Mason Center for Arts & Culture, 2 Marina Blvd., Bldg.\n",
      "Exit Theatre, 156 Eddy St., S.F.\n",
      "21 ) 10 San Francisco spots to toast to this fall\n"
     ]
    },
    {
     "data": {
      "text/html": [
       "<img src=\"https://s3.amazonaws.com/sfc-datebook-wordpress/wp-content/uploads/sites/2/2019/08/42418790_DATEBOOK_MER2017032111511089fallfireplaces0825-700x500.jpg\"/>"
      ],
      "text/plain": [
       "<IPython.core.display.Image object>"
      ]
     },
     "metadata": {},
     "output_type": "display_data"
    },
    {
     "name": "stdout",
     "output_type": "stream",
     "text": [
      "415-474-1419. thegrovesf.comLaureate Bar & LoungeLaureate wins for one of the best contemporary design fireplaces in San Francisco: Terrazzo tile has never looked so good.\n",
      "444 Presidio Ave., Presidio Heights.\n",
      "415-931-5100. www.sprucesf.comChambers eat + drinkThe Tenderloin restaurant lounge in the Phoenix Hotel is swinging ring-a-ding cool, er, hot, when the fire is lit and the vinyl is spinning.\n",
      "601 Eddy St., Tenderloin.\n",
      "3639 Taraval St., Sunset District.\n",
      "22 ) California Streamin’: ‘Sarah Connor Chronicles’ was ahead of its time (travel)\n"
     ]
    },
    {
     "data": {
      "text/html": [
       "<img src=\"https://s3.amazonaws.com/sfc-datebook-wordpress/wp-content/uploads/sites/2/2019/10/MER4af4bbcab40a4a510af24542beac8streamin1103-700x500.jpg\"/>"
      ],
      "text/plain": [
       "<IPython.core.display.Image object>"
      ]
     },
     "metadata": {},
     "output_type": "display_data"
    },
    {
     "name": "stdout",
     "output_type": "stream",
     "text": [
      "Airing on Fox in 2008 and 2009, “Terminator: The Sarah Connor Chronicles” was a short-lived TV series produced by Warner Bros., put into development following the studio’s success releasing the theatrical sequel “Terminator 3: Rise of the Machines” in 2003.\n",
      "As developed by writer Josh Friedman, “The Sarah Connor Chronicles” took inspiration not only from the Cameron “Terminator” canon, but also the 2004 “Battlestar Galactica” reboot in its explorations of morality, identity and the impending advance of artificial intelligence.\n",
      "Initially set in 1999, two years following the fiery conclusion of 1991’s “Terminator 2: Judgment Day,” “The Sarah Connor Chronicles” has Lena Headey (Cersei from “Game of Thrones”) stepping into Linda Hamilton’s iconic boots as butt-kicking single mom Sarah and also stars Thomas Dekker (“Heroes”) as angsty future messiah John Connor.\n",
      "“I think there’s almost a consensus that ‘Sarah Connor Chronicles’ was a little bit too ahead of its time,” Stentz says.\n",
      "It’s trying to be something kind of weird and cerebral and sometimes even slow-paced — (but) still an exploration of Jim Cameron’s universe.”“Terminator: The Sarah Connor Chronicles” can be purchased for streaming on various apps, including Amazon and Apple TV.\n",
      "23 ) Review: Michael Nyman’s music excavates old instruments, but the mix is off\n"
     ]
    },
    {
     "data": {
      "text/html": [
       "<img src=\"https://s3.amazonaws.com/sfc-datebook-wordpress/wp-content/uploads/sites/2/2019/10/MER4477048144350a77056fd85a37254fretwork1105-700x500.jpg\"/>"
      ],
      "text/plain": [
       "<IPython.core.display.Image object>"
      ]
     },
     "metadata": {},
     "output_type": "display_data"
    },
    {
     "name": "stdout",
     "output_type": "stream",
     "text": [
      "That was the upshot of a promising but often monochromatic recital on Sunday, Nov. 3, by the ensemble Fretwork, together with countertenor Iestyn Davies.\n",
      "The five members of Fretwork play viols, string instruments that are played vertically (held on the lap or between the legs) and bowed with an underhanded grip.\n",
      "More often, though, Nyman’s musical premises seemed out of sync with his available resources.\n",
      "Nyman sets the instrumentalists sawing and strumming as best they can, but the result still feels pallid.\n",
      "It was the music that these performing forces had been designed to deliver, and they did it beautifully.\n",
      "24 ) Meet the Peaches Crew, the Bay Area DJ collective that puts ladies first\n"
     ]
    },
    {
     "data": {
      "text/html": [
       "<img src=\"https://s3.amazonaws.com/sfc-datebook-wordpress/wp-content/uploads/sites/2/2019/10/MER8b30b341f4af9a231f700347e668epeaches1103-700x500.jpg\"/>"
      ],
      "text/plain": [
       "<IPython.core.display.Image object>"
      ]
     },
     "metadata": {},
     "output_type": "display_data"
    },
    {
     "name": "stdout",
     "output_type": "stream",
     "text": [
      "The Peaches Crew is celebrating its 10th anniversary this year, making it the longest-running group of female DJs in the region rocking the turntables.\n",
      "When did you form the Peaches Crew?\n",
      "Erin also helps keep the Peaches crew cohesive when we have our ups and downs.\n",
      "I was asked by Masaye to join her all-female DJ crew running Sunday parties at Skylark.\n",
      "We’re not all doing it anymore, some Peaches Crew members rotate in, but it’s mostly Pony P who holds it down.\n",
      "25 ) Peaches Crew marks 10 years of turning the tables in male-dominated DJ scene\n"
     ]
    },
    {
     "data": {
      "text/html": [
       "<img src=\"https://s3.amazonaws.com/sfc-datebook-wordpress/wp-content/uploads/sites/2/2019/10/MERe057d7f2c4b31977bdcea3b46fa19peaches1103-700x500.jpg\"/>"
      ],
      "text/plain": [
       "<IPython.core.display.Image object>"
      ]
     },
     "metadata": {},
     "output_type": "display_data"
    },
    {
     "name": "stdout",
     "output_type": "stream",
     "text": [
      "As part of the Peaches Crew, ThatGirl has strength in a sisterhood of female DJs who spin throughout the Bay Area.\n",
      "This year, the crew marks its 10th anniversary, making Peaches Crew the longest-running group of women in the region rocking the turntables.\n",
      "Masaye Waugh was a bartender at the Skylark in San Francisco when she got the idea to form an all-female DJ crew in 2009.\n",
      "Together, the Peaches Crew has set the bar for what the DJ scene should look like in a woke society.\n",
      "Peaches Crew with Lady Fingaz and Deeandroid: 9 p.m. every third Friday.\n",
      "26 ) Why you should see theater in languages you don’t speak\n"
     ]
    },
    {
     "data": {
      "text/html": [
       "<img src=\"https://s3.amazonaws.com/sfc-datebook-wordpress/wp-content/uploads/sites/2/2019/10/MERec4822bba4ec8958896b05ac0515fjaniakcol1103-700x500.jpg\"/>"
      ],
      "text/plain": [
       "<IPython.core.display.Image object>"
      ]
     },
     "metadata": {},
     "output_type": "display_data"
    },
    {
     "name": "stdout",
     "output_type": "stream",
     "text": [
      "I had a feeling there would be jokes and references I wouldn’t get at Tagalog 2019, Bindlestiff Studio’s festival of one-act plays performed in Tagalog, which I don’t speak.\n",
      "It’s OK to not get what most of the rest of the audience is getting out of a work of theater.\n",
      "Seeing a show in a language you don’t speak can give you permission to forge your own experience of a show, on your own terms.\n",
      "If you speak only one language, you have only one way of seeing, processing and articulating the world.\n",
      "When you contemplate seeing such theater, don’t think about it as butting up against your own ignorance.\n",
      "27 ) Works by Pollock, de Kooning donated to Stanford’s Anderson Collection\n"
     ]
    },
    {
     "data": {
      "text/html": [
       "<img src=\"https://s3.amazonaws.com/sfc-datebook-wordpress/wp-content/uploads/sites/2/2019/10/MER4b842783e4277ae029036c3341704anderson1029-700x500.jpg\"/>"
      ],
      "text/plain": [
       "<IPython.core.display.Image object>"
      ]
     },
     "metadata": {},
     "output_type": "display_data"
    },
    {
     "name": "stdout",
     "output_type": "stream",
     "text": [
      "The Anderson Collection at Stanford University is adding major works by midcentury masters Jackson Pollock and Willem de Kooning, officials announced Monday, Oct. 28.\n",
      "“These are two of the most coveted works by these influential artists still in private hands,” said Jason Linetzky, director of the Anderson Collection.\n",
      "Moo Anderson had committed the gifts months ago, in honor of the fifth anniversary of the Anderson Collection.\n",
      "“They show the artist at the height of his creativity and innovation.”The smaller “Gansevoort Street” joins two other de Koonings in the Anderson Collection.\n",
      "Anderson Collection at Stanford University: 11 a.m.-5 p.m. Monday, Wednesday, Friday-Sunday; 11 a.m.-8 p.m. Thursday.\n",
      "28 ) Oakland Museum’s ‘Burning Man’ exhibition tries retelling a dream\n"
     ]
    },
    {
     "data": {
      "text/html": [
       "<img src=\"https://s3.amazonaws.com/sfc-datebook-wordpress/wp-content/uploads/sites/2/2019/10/MERcacb369ff4ead885e62e5ef169018BURNING1026-700x500.jpg\"/>"
      ],
      "text/plain": [
       "<IPython.core.display.Image object>"
      ]
     },
     "metadata": {},
     "output_type": "display_data"
    },
    {
     "name": "stdout",
     "output_type": "stream",
     "text": [
      "I have never been to Black Rock City, the temporary megalopolis erected for Burning Man every year.\n",
      "The current exhibition tries valiantly to suggest that ineffable aspect of the Burning Man experience.\n",
      "But the task of re-creating Burning Man, inevitably, was beyond the show’s organizers.\n",
      "“No Spectators: The Art of Burning Man”: 11 a.m.-5 p.m. Wednesday-Sunday; until 9 p.m. Friday.\n",
      "Oakland Museum of California, 1000 Oak St., Oakland.\n",
      "29 ) Snow still falls on ‘Nutcracker’ 75 years after it started at San Francisco opera house\n"
     ]
    },
    {
     "data": {
      "text/html": [
       "<img src=\"https://s3.amazonaws.com/sfc-datebook-wordpress/wp-content/uploads/sites/2/2019/10/MERaf0b9b3c84c2d9cb451239ad95c9esnowflake1110-700x500.jpg\"/>"
      ],
      "text/plain": [
       "<IPython.core.display.Image object>"
      ]
     },
     "metadata": {},
     "output_type": "display_data"
    },
    {
     "name": "stdout",
     "output_type": "stream",
     "text": [
      "It was wartime 1944 when San Francisco first felt the magic of a Christmas Eve snowfall.\n",
      "Vickers was in the first full-length “Nutcracker” to be staged in America, a San Francisco Ballet production at the War Memorial Opera House.\n",
      "But in San Francisco it comes down like it does in the film “McCabe & Mrs. Miller,” which is to say once it starts it doesn’t stop.\n",
      "Artistic Director Willam Christensen designed it as a one-season production inspired by a San Francisco visit by George Balanchine in the fall of 1944.\n",
      "415-865-2000. www.sfballet.org/nutcrackerRelated articlesGlenn McCoy opens his 31st and final San Francisco Ballet seasonSan Francisco Ballet’s 86th gala goes ‘over the top’ with passionSan Francisco Ballet names new director from Vancouver to succeed Glenn McCoy\n",
      "30 ) Dancing with a ghost: Bay Area artists honor Merce Cunningham\n"
     ]
    },
    {
     "data": {
      "text/html": [
       "<img src=\"https://s3.amazonaws.com/sfc-datebook-wordpress/wp-content/uploads/sites/2/2019/11/MERec7ad6086420e81081483ab945910merce1105-700x500.jpg\"/>"
      ],
      "text/plain": [
       "<IPython.core.display.Image object>"
      ]
     },
     "metadata": {},
     "output_type": "display_data"
    },
    {
     "name": "stdout",
     "output_type": "stream",
     "text": [
      "Ten commissioned artists, at the invitation of choreographer Hope Mohr, under the direction of Merce Cunningham Trust representatives Rashaun Mitchell and Silas Riener, and in collaboration with SFMOMA’s Open Space and ODC Theater, will present new artistic creations alongside Cunningham repertory.\n",
      "The commissioned artists are intentionally of a “new” generation — folks who have no direct connections to Cunningham, but who have been invited to “try on” his philosophies and processes and then make something of them.\n",
      "Sophia Wang, another commissioned artist, is drawing inspiration from Cunningham’s dance for the camera.\n",
      "She is collaborating with a number of artists — filmmaker Chani Bockwinkel, visual artist Lisa Rybovich Crallé, sound artist Kim West, and Bay Area dancer/choreographer Brontez Purnell.\n",
      "The commissioned artists were selected to represent a range of disciplines, practices and methodologies.\n",
      "31 ) Review: SF Symphony takes a weary trudge through Shostakovich’s wartime opus\n"
     ]
    },
    {
     "data": {
      "text/html": [
       "<img src=\"https://s3.amazonaws.com/sfc-datebook-wordpress/wp-content/uploads/sites/2/2019/10/MER4a860e49a404688890a60997f852bsymph1028-700x500.jpg\"/>"
      ],
      "text/plain": [
       "<IPython.core.display.Image object>"
      ]
     },
     "metadata": {},
     "output_type": "display_data"
    },
    {
     "name": "stdout",
     "output_type": "stream",
     "text": [
      "Among the odd paradoxes surrounding Shostakovich’s Seventh Symphony is the fact that the cheesiest and most obvious episode in the entire 70-minute work, an extended passage whose every note is inscribed in Day-Glo paint, is also its most effective.\n",
      "There’s no taking it seriously, and there’s no resisting it either.\n",
      "If you remember nothing else from a performance of the Seventh — and you won’t — this tune will stick with you for days.\n",
      "It’s been 15 years since the Symphony tackled it, and last time around, under conductor Yuri Temirkanov, things didn’t fare much better.\n",
      "In his Symphony debut, pianist Alexander Gavrylyuk focused on the technical challenges at the expense of nearly everything else.\n",
      "32 ) Review: Berkeley Symphony launches new era with music by a hometown figure\n"
     ]
    },
    {
     "data": {
      "text/html": [
       "<img src=\"https://s3.amazonaws.com/sfc-datebook-wordpress/wp-content/uploads/sites/2/2019/10/MEReefacd22a4d3686d3aea9fff7dc4fberkeley1026-700x500.jpg\"/>"
      ],
      "text/plain": [
       "<IPython.core.display.Image object>"
      ]
     },
     "metadata": {},
     "output_type": "display_data"
    },
    {
     "name": "stdout",
     "output_type": "stream",
     "text": [
      "How do you mark the beginning of a new chapter in the life of a musical organization?\n",
      "If you’re Joseph Young and the Berkeley Symphony, you do it with a telling mix of familiar material and new (or newish) work meant to establish some artistic priorities.\n",
      "Young was appointed only a few months ago as the orchestra’s new music director, just the fourth in a nearly 50-year history.\n",
      "That would be Olly Wilson, the composer and UC Berkeley professor who died last year at 80.\n",
      "This is music that is inventive and straightforward in its creative strategies, and Young and the orchestra delivered it with vigorous clarity.\n",
      "33 ) Casting of SF Opera’s ‘Figaro’ lays bare the racial fault lines in opera\n"
     ]
    },
    {
     "data": {
      "text/html": [
       "<img src=\"https://s3.amazonaws.com/sfc-datebook-wordpress/wp-content/uploads/sites/2/2019/10/MERb09ed56e942ed814fe427ae30b5fafigaro1014-700x500.jpg\"/>"
      ],
      "text/plain": [
       "<IPython.core.display.Image object>"
      ]
     },
     "metadata": {},
     "output_type": "display_data"
    },
    {
     "name": "stdout",
     "output_type": "stream",
     "text": [
      "In the current “Figaro,” by contrast, the presence of black singers paradoxically serves to erase, or at least obscure, racial history.\n",
      "Even in America, where race is a constant historical thread, a director is always free to focus on other issues.\n",
      "The “Ring” Cycle that director Francesca Zambello created for the San Francisco Opera, for instance, skirts the matter of race almost entirely.\n",
      "These and other questions feel increasingly urgent, which is why Mc Neal’s presence in San Francisco is such a heartening institutional development.\n",
      "“The Marriage of Figaro”: San Francisco Opera.\n",
      "34 ) Cat Marnell and audiences’ fascination with the enfant terrible\n"
     ]
    },
    {
     "data": {
      "text/html": [
       "<img src=\"https://s3.amazonaws.com/sfc-datebook-wordpress/wp-content/uploads/sites/2/2019/11/MER1318b5eeb40e4bf45ecb073ca5c7dbravo1104-683x1024.jpg\"/>"
      ],
      "text/plain": [
       "<IPython.core.display.Image object>"
      ]
     },
     "metadata": {},
     "output_type": "display_data"
    },
    {
     "name": "stdout",
     "output_type": "stream",
     "text": [
      "If you’re a fan of enfant terrible stories, “Self-Tanner for the Soul” is for you.\n",
      "That worry haunted me: Are audiences aiding an artist’s self-destruction when we consume the creative fruits of their dangerous living?\n",
      "A lot of art and literature is created from hard living, and some “good” art and literature even glamorize it.\n",
      "Marnell said she was drawn to the glamour and talent of Doherty and Sedgwick, their enfant terribleness and addictions incidental to the art that attracted her.\n",
      "When I asked about her own hard living, she was candid.\n",
      "35 ) Review: Tamim Ansary’s ‘Yesterday’ shows us how the present reflects the past\n"
     ]
    },
    {
     "data": {
      "text/html": [
       "<img src=\"https://s3.amazonaws.com/sfc-datebook-wordpress/wp-content/uploads/sites/2/2019/11/MERb5e69038e40a1864f92ae26ebfb84books1110_yesterday-700x500.jpg\"/>"
      ],
      "text/plain": [
       "<IPython.core.display.Image object>"
      ]
     },
     "metadata": {},
     "output_type": "display_data"
    },
    {
     "name": "stdout",
     "output_type": "stream",
     "text": [
      "In his terrific new book, Tamim Ansary explores the underappreciated ways that empires, nations and smaller sets of people have responded to their surroundings, influenced one another and developed stories that give their lives meaning.\n",
      "The ability to manipulate tools, coupled with the development of language, made us what we are, Ansary writes.\n",
      "“By 1650, the native population of these continents was down to 6 million or so,” Ansary writes.\n",
      "After the Crusades, Ansary writes, lance-wielding knights needed something to do.\n",
      "“The Invention of Yesterday: A 50,000-Year History of Human Culture, Conflict, and Connection”By Tamim AnsaryPublicAffairs(448 pages, $30)\n",
      "36 ) Why witches are back and bigger than ever in pop culture and San Francisco\n"
     ]
    },
    {
     "data": {
      "text/html": [
       "<img src=\"https://s3.amazonaws.com/sfc-datebook-wordpress/wp-content/uploads/sites/2/2019/10/MER91cb15ec8450d93b7a01de1c998b0witches1031_cag_3671.jpg\"/>"
      ],
      "text/plain": [
       "<IPython.core.display.Image object>"
      ]
     },
     "metadata": {},
     "output_type": "display_data"
    },
    {
     "name": "stdout",
     "output_type": "stream",
     "text": [
      "“Hail guardian spirits of the North, watchtowers of the Earth, guardians of stone and bone and blood,” Yates Garcia intoned.\n",
      "“It felt so great to be around all those witches,” said Yates Garcia.\n",
      "“We’re reclaiming the archetype of the witch,” said Modern Witches Confluence organizer Casey Zabala.\n",
      "The Reclaiming Collective, a coven founded in the late ’70s, is considered an outgrowth of magic classes taught by witches Starhawk and Diane Baker in San Francisco.\n",
      "“There are feelings of helplessness all these things spark,” said Yates Garcia.\n",
      "37 ) Amid scary blackouts and wildfires, this home has all treats, no tricks\n"
     ]
    },
    {
     "data": {
      "text/html": [
       "<img src=\"https://s3.amazonaws.com/sfc-datebook-wordpress/wp-content/uploads/sites/2/2019/10/MER2016103123292973spotswood1031-700x500.jpg\"/>"
      ],
      "text/plain": [
       "<IPython.core.display.Image object>"
      ]
     },
     "metadata": {},
     "output_type": "display_data"
    },
    {
     "name": "stdout",
     "output_type": "stream",
     "text": [
      "Friends and family have been evacuated from their homes due to the Kincade Fire north of us.\n",
      "My childhood home, now also without power, was never once the recipient of a costumed child in search of sweets.\n",
      "Will these haunted houses be open tonight?\n",
      "For lots of kids, braving dozens of new homes and new people repeatedly can be overwhelming, even without wildfires and blackouts.\n",
      "Bay Area all-ages events to check out for Halloween7 Bay Area haunted Halloween attractionsBay Area spots to party, drink and dance during Halloween weekend\n",
      "38 ) Mary Margaret ‘Moo’ Anderson, modern art collector and benefactor, dead at 92\n"
     ]
    },
    {
     "data": {
      "text/html": [
       "<img src=\"https://s3.amazonaws.com/sfc-datebook-wordpress/wp-content/uploads/sites/2/2019/10/MER25cfb190340bda49024ff71691556anderson1026-700x500.jpg\"/>"
      ],
      "text/plain": [
       "<IPython.core.display.Image object>"
      ]
     },
     "metadata": {},
     "output_type": "display_data"
    },
    {
     "name": "stdout",
     "output_type": "stream",
     "text": [
      "Her death was confirmed Thursday, Oct. 24, by the Anderson Collection at Stanford University, a museum showing the core of their collection.\n",
      "They were also generous in both loaning and donating pieces to the San Francisco Museum of Modern Art and the Fine Arts Museums of San Francisco.\n",
      "“This has been a family affair from the beginning,” said Jason Linetzky, director of the Anderson Collection.\n",
      "He heard her name as “Moo Moo” not “Murma” and it was Moo from that point on, according to her granddaughter Devin Pence.\n",
      "Their collection was showcased in the major exhibition “Celebrating Modern Art: the Anderson Collection,” which ran from 2000 to 2001 at the San Francisco Museum of Modern Art.\n",
      "39 ) Explore California’s newest AVA, the Petaluma Gap\n"
     ]
    },
    {
     "data": {
      "text/html": [
       "<img src=\"https://s3-us-west-1.amazonaws.com/sfc-wordpress2/wp-content/uploads/2016/09/29223851/McEvoy.jpg\"/>"
      ],
      "text/plain": [
       "<IPython.core.display.Image object>"
      ]
     },
     "metadata": {},
     "output_type": "display_data"
    },
    {
     "name": "stdout",
     "output_type": "stream",
     "text": [
      "The Petaluma Gap is one of California’s youngest American viticultural areas (AVAs), granted official appellation status at the end of 2017.\n",
      "Only a small percentage of this expanse is planted to wine grapes, mostly Pinot Noir.\n",
      "Among the coldest places to grow grapes in Sonoma County, the Petaluma Gap gets blanketed by ocean air that is able to sneak in through a 15-mile-wide gap in the coastal mountain range.\n",
      "That said, the Petaluma Gap is first and foremost a growing region; the actual wineries to be visited are few and far between.\n",
      "Here’s where to go wine tasting within the actual boundaries of the Petaluma Gap — so that you can feel those famous winds as you taste the wines.\n",
      "40 ) Napa’s liveliest tasting room? It may be Housley\n"
     ]
    },
    {
     "data": {
      "text/html": [
       "<img src=\"https://s3-us-west-1.amazonaws.com/sfc-wordpress2/wp-content/uploads/2019/10/14174558/ThePress_housley4.jpg\"/>"
      ],
      "text/plain": [
       "<IPython.core.display.Image object>"
      ]
     },
     "metadata": {},
     "output_type": "display_data"
    },
    {
     "name": "stdout",
     "output_type": "stream",
     "text": [
      "The energy bumped around the downtown Napa tasting room as women clinked glasses and took selfies in front of wine racks.\n",
      "Housley Napa Valley opened in June, joining a growing circuit of downtown tasting rooms near the Napa River and Main Street.\n",
      "Starstruck visitors gazing at the pictures of the family around the tasting room.\n",
      "The Housley family founded the winery in 2000, where it also grows 37 ares on its estate and runs a small tasting room at this Lodi-area facility.\n",
      "But, the Napa tasting room remains the current star of its operations.\n",
      "41 ) Explore California’s newest AVA, the Petaluma Gap\n"
     ]
    },
    {
     "data": {
      "text/html": [
       "<img src=\"https://s3-us-west-1.amazonaws.com/sfc-wordpress2/wp-content/uploads/2016/09/29223851/McEvoy.jpg\"/>"
      ],
      "text/plain": [
       "<IPython.core.display.Image object>"
      ]
     },
     "metadata": {},
     "output_type": "display_data"
    },
    {
     "name": "stdout",
     "output_type": "stream",
     "text": [
      "The Petaluma Gap is one of California’s youngest American viticultural areas (AVAs), granted official appellation status at the end of 2017.\n",
      "Only a small percentage of this expanse is planted to wine grapes, mostly Pinot Noir.\n",
      "Among the coldest places to grow grapes in Sonoma County, the Petaluma Gap gets blanketed by ocean air that is able to sneak in through a 15-mile-wide gap in the coastal mountain range.\n",
      "That said, the Petaluma Gap is first and foremost a growing region; the actual wineries to be visited are few and far between.\n",
      "Here’s where to go wine tasting within the actual boundaries of the Petaluma Gap — so that you can feel those famous winds as you taste the wines.\n",
      "43 ) California's stem cell bet: After 14 years and $3 billion, has it paid off?\n"
     ]
    },
    {
     "data": {
      "text/html": [
       "<img src=\"https://s.hdnux.com/photos/72/16/34/16029953/3/3000x0.jpg\"/>"
      ],
      "text/plain": [
       "<IPython.core.display.Image object>"
      ]
     },
     "metadata": {},
     "output_type": "display_data"
    },
    {
     "name": "stdout",
     "output_type": "stream",
     "text": [
      "Lofty promises, limited results After 14 years and $3 billion, has California's bet on stem cells paid off?\n",
      "This time, taxpayers will want to know: Has California’s initial bet on stem cell science paid off?\n",
      "Doctors remove stem cells from the child’s bone marrow, add a normal copy of the gene that’s causing the disease, then reinfuse the stem cells back into the child.\n",
      "Induced-pluripotent stem cells, developed in 2006 by a Japanese scientist, were a potential game changer for stem cell research.\n",
      "It was his son Jordan’s battle with Type 1 diabetes that drove Klein into patient advocacy and stem cell research.\n",
      "44 ) \n"
     ]
    },
    {
     "data": {
      "text/html": [
       "<img src=\"https://projects.sfchronicle.com/2018/stem-cells/research/assets/social/research-stemcells.jpg\"/>"
      ],
      "text/plain": [
       "<IPython.core.display.Image object>"
      ]
     },
     "metadata": {},
     "output_type": "display_data"
    },
    {
     "name": "stdout",
     "output_type": "stream",
     "text": [
      "\n",
      "45 ) Stem cell market: Inside California's flourishing for-profit clinics\n"
     ]
    },
    {
     "data": {
      "text/html": [
       "<img src=\"https://projects.sfchronicle.com/2018/stem-cells/assets/social/clinics-stemcells.jpg\"/>"
      ],
      "text/plain": [
       "<IPython.core.display.Image object>"
      ]
     },
     "metadata": {},
     "output_type": "display_data"
    },
    {
     "name": "stdout",
     "output_type": "stream",
     "text": [
      "In 2016, there were at least 570, according to a paper published in Cell Stem Cell.\n",
      "For-profit stem cell clinics in the United States generally use mesenchymal stem cells, a type of adult stem cell.\n",
      "In other words, fat stem cells are not likely to become cartilage and bone marrow stem cells are not likely to become fat.\n",
      "Unlike embryonic stem cells, which build every part of a developing human body, adult stem cells are limited in their abilities.\n",
      "Though less powerful than embryonic and induced-pluripotent stem cells, adult stem cells have advantages.\n",
      "46 ) In search of a miracle: Stem cells are a mother's last hope to heal her son\n"
     ]
    },
    {
     "data": {
      "text/html": [
       "<img src=\"https://projects.sfchronicle.com/2018/stem-cells/assets/social/jordan-stemcells.jpg\"/>"
      ],
      "text/plain": [
       "<IPython.core.display.Image object>"
      ]
     },
     "metadata": {},
     "output_type": "display_data"
    },
    {
     "name": "stdout",
     "output_type": "stream",
     "text": [
      "The Miracle Cell This series explores the hope and reality of the revolutionary science of stem cell therapy.\n",
      "By American standards of medicine, there is no proven stem cell therapy for seizures or autism.\n",
      "And as we age, stem cells are the tools that repair and replace the cells we lose to injury, disease and decay.\n",
      "He founded his stem cell company, which after several name changes is now known as Stem Cell of America, in 1995.\n",
      "She could have gone to the Stem Cell Institute in Panama, a center popular among American clients that uses stem cells from umbilical cord tissue.\n",
      "52 ) San Francisco Chronicle - Top 100 Restaurants 2019\n"
     ]
    },
    {
     "data": {
      "text/html": [
       "<img src=\"http://cdn.shopify.com/s/files/1/0668/2853/products/SFC-Top100-2019-Magazine-Cover-RGB_grande.png?v=1561492099\"/>"
      ],
      "text/plain": [
       "<IPython.core.display.Image object>"
      ]
     },
     "metadata": {},
     "output_type": "display_data"
    },
    {
     "name": "stdout",
     "output_type": "stream",
     "text": [
      "$ 9.95Let us help you navigate your next meal out with this year’s Top 100 Bay Area Restaurants list.\n",
      "The annual list is all new in 2019, featuring more than just high-end Bay Area cuisine.\n",
      "Restaurant Critic Soleil Ho and The Chronicle Food Team select the restaurants that exemplify the Bay Area today.\n",
      "San Francisco Chronicle subscribers will receive the Top 100 magazine as part of their subscription on Sunday, June 30th.\n",
      "Click here to get instant access to the Top 100 online!\n",
      "57 ) Warriors 2019 NBA Finals Preview - 5/30/19 sporting green cover\n"
     ]
    },
    {
     "data": {
      "text/html": [
       "<img src=\"http://cdn.shopify.com/s/files/1/0668/2853/products/SFC-Warriors-2019-FinalsPreview-SG-Cover-Mount_grande.png?v=1559241486\"/>"
      ],
      "text/plain": [
       "<IPython.core.display.Image object>"
      ]
     },
     "metadata": {},
     "output_type": "display_data"
    },
    {
     "name": "stdout",
     "output_type": "stream",
     "text": [
      "$ 109.9511\" x 21\" print of the May 30, 2019 San Francisco Chronicle Sporting Green cover highlighting the Finals preview of the Warriors vs. the RaptorsThe high-quality image is available in three ways:printed on matte finish canvas and wrapped around a 1\" thick black framelaminated and mounted as a plaque .\n",
      "and mounted as a plaque printed on matte finish paper and ready for framing (unframed print is 12 1/2\" x 24\").\n",
      "Items printed and shipped from* Shipping for DURAPLAQ items takes 15-20 days.\n",
      "59 ) The Press - The 2019 Wine Country Guide\n"
     ]
    },
    {
     "data": {
      "text/html": [
       "<img src=\"http://cdn.shopify.com/s/files/1/0668/2853/products/press_cover_grande.jpg?v=1556568610\"/>"
      ],
      "text/plain": [
       "<IPython.core.display.Image object>"
      ]
     },
     "metadata": {},
     "output_type": "display_data"
    },
    {
     "name": "stdout",
     "output_type": "stream",
     "text": [
      "$ 9.9552 WINERIESNow it's not hard to figure out where to go wine tasting in Napa & Sonoma!\n",
      "Our 96 page The Press - 2019 Wine Country Guide is your definitive listing of all the best wine tasting experiences from Mendocino to Monterey.\n",
      "With in-depth descriptions of each winery, their hours, specialties and other details, this guide will be invaluable as you tour wine country.\n",
      "San Francisco Chronicle subscribers received the Wine Country Guide magazine as part of their subscription on Sunday, August 28th.\n",
      "63 ) Warriors THE OAKLAND YEARS magazine\n"
     ]
    },
    {
     "data": {
      "text/html": [
       "<img src=\"http://cdn.shopify.com/s/files/1/0668/2853/products/Cover_3a703b73-c32b-4fa2-9c5c-785ff7877b17_grande.png?v=1539294195\"/>"
      ],
      "text/plain": [
       "<IPython.core.display.Image object>"
      ]
     },
     "metadata": {},
     "output_type": "display_data"
    },
    {
     "name": "stdout",
     "output_type": "stream",
     "text": [
      "$ 9.95It's the end of an era with the Warriors about to play their final East Bay season before moving to San Francisco's Chase Center.\n",
      "This collectors magazine takes you back to the Warriors start in Oakland, their ascension to #1, and finally their look to the future in San Francisco.\n",
      "From The Chronicle's award-winning sports and photo staff, this commemorative piece is perfect for your personal archives or as gifts to friends and family.\n",
      "FREE Shipping!\n",
      "San Francisco Chronicle subscribers will receive the Warriors THE OAKLAND YEARS magazine as part of their subscription on Sunday, October 14th.\n",
      "64 ) The Press - The 2018 Wine Country Guide\n"
     ]
    },
    {
     "data": {
      "text/html": [
       "<img src=\"http://cdn.shopify.com/s/files/1/0668/2853/products/Screen_Shot_2018-08-17_at_4.11.39_PM_grande.png?v=1534547540\"/>"
      ],
      "text/plain": [
       "<IPython.core.display.Image object>"
      ]
     },
     "metadata": {},
     "output_type": "display_data"
    },
    {
     "name": "stdout",
     "output_type": "stream",
     "text": [
      "$ 9.9552 WINERIESNow it's not hard to figure out where to go wine tasting in Napa & Sonoma!\n",
      "Our 122 page The Press - 20118 Wine Country Guide is your definitive listing of all the best wine tasting experiences from Mendocino to Monterey.\n",
      "With in-depth descriptions of each winery, their hours, specialties and other details, this guide will be invaluable as you tour wine country.\n",
      "San Francisco Chronicle subscribers will receive the Wine Country Guide magazine as part of their subscription on Sunday, August 26th.\n",
      "67 ) Warriors 2018 NBA Authentic Framed PRESS PLATE - Golden Dynasty Finals 6/9/18 newspaper\n"
     ]
    },
    {
     "data": {
      "text/html": [
       "<img src=\"http://cdn.shopify.com/s/files/1/0668/2853/products/press_plate_1_grande.jpg?v=1529524218\"/>"
      ],
      "text/plain": [
       "<IPython.core.display.Image object>"
      ]
     },
     "metadata": {},
     "output_type": "display_data"
    },
    {
     "name": "stdout",
     "output_type": "stream",
     "text": [
      "Press Plate Size: 10 3/4\" x 22 1/2\"Framed Plate Size: 16 1/4\" x 25 1/4\"As the plates exit the developing process, a razor-thin coating of gum arabic is applied to prevent the aluminum surface from oxidizing.\n",
      "DO clean the surface of the plate, only if absolutely necessary, with plain water and a soft cotton cloth.\n",
      "DO NOT touch the plate with your bare hands as the natural oils on your hand will contaminate the gum layer of protective film that is over the entire plate.\n",
      "DO NOT store your press plate under books or in a stack of papers.\n",
      "Over time, the protective layer on the plate will act as a glue and your plate and the books/papers will be ruined.\n",
      "76 ) WARRIORS 2018 NBA Championship PUZZLES\n"
     ]
    },
    {
     "data": {
      "text/html": [
       "<img src=\"http://cdn.shopify.com/s/files/1/0668/2853/products/10.125x13.5_PUZZLE_SFC-Warriors-2018-Finals-Game4-Main-Cover-Artwork_grande.jpg?v=1529092896\"/>"
      ],
      "text/plain": [
       "<IPython.core.display.Image object>"
      ]
     },
     "metadata": {},
     "output_type": "display_data"
    },
    {
     "name": "stdout",
     "output_type": "stream",
     "text": [
      "$ 45.95Full-color puzzles featuring the Warriors 2018 Championship year.\n",
      "Choose from the following or collect them all:NBA Championship win cover - 6/9/18 coverParade Extra - 6/12/18 coverCommemorative Edition - 6/14/18 coverFinals Preview - 5/31/18 coverWestern Conference Final Game 7 - 5/29/18 Sporting Green coverEach one-of-a-kind puzzle is 10'x13\" and has 250 pieces.\n",
      "It also comes with a matching printed 4x6 tin for storage.\n",
      "Items printed and shipped from:Free shipping!\n",
      "* Shipping for DURAPLAQ items takes 15-20 days.\n",
      "78 ) Warriors 2018 NBA Finals Preview - 5/31/18 sporting green cover\n"
     ]
    },
    {
     "data": {
      "text/html": [
       "<img src=\"http://cdn.shopify.com/s/files/1/0668/2853/products/SFC-Warriors-2018-FinalsPreview-SG-Cover-Mount_1_grande.jpg?v=1527874975\"/>"
      ],
      "text/plain": [
       "<IPython.core.display.Image object>"
      ]
     },
     "metadata": {},
     "output_type": "display_data"
    },
    {
     "name": "stdout",
     "output_type": "stream",
     "text": [
      "$ 109.9511\" x 21\" print of the May 31, 2018 San Francisco Chronicle Sporting Green cover highlighting the Finals preview of the Warriors vs. the CavaliersThe high-quality image is available in three ways:printed on matte finish canvas and wrapped around a 1\" thick black framelaminated and mounted as a plaque .\n",
      "and mounted as a plaque printed on matte finish paper and ready for framing (unframed print is 12 1/2\" x 24\").\n",
      "Items printed and shipped from* Shipping for DURAPLAQ items takes 15-20 days.\n",
      "80 ) Warriors 2018 NBA Golden Dynasty Finals - 6/9/18 Commemorative newspaper cover\n"
     ]
    },
    {
     "data": {
      "text/html": [
       "<img src=\"http://cdn.shopify.com/s/files/1/0668/2853/products/SFC-Warriors-2018-Finals-Win-Main-Cover-Mount_grande.jpg?v=1528527540\"/>"
      ],
      "text/plain": [
       "<IPython.core.display.Image object>"
      ]
     },
     "metadata": {},
     "output_type": "display_data"
    },
    {
     "name": "stdout",
     "output_type": "stream",
     "text": [
      "$ 109.9511\" x 21\" print of June 9, 2018, San Francisco Chronicle Golden Dynasty newspaper cover featuring our exclusive coverage of the Warriors epic win over the Cavaliers to capture third NBA title in four seasons.\n",
      "The high-quality image is available in three ways:printed on matte finish canvas and wrapped around a 1\" thick black framelaminated and mounted as a plaque .\n",
      "and mounted as a plaque printed on matte finish paper and ready for framing (unframed print is 12 1/2\" x 24\").\n",
      "Items printed and shipped from* Shipping for DURAPLAQ items takes 15-20 days.\n",
      "83 ) Warriors 2018 NBA Western Conference Finals Game 7 win - 5/29/18 sporting green cover\n"
     ]
    },
    {
     "data": {
      "text/html": [
       "<img src=\"http://cdn.shopify.com/s/files/1/0668/2853/products/SFC-Warriors-2018-WCF-SG-Cover-Mount_grande.jpg?v=1527603660\"/>"
      ],
      "text/plain": [
       "<IPython.core.display.Image object>"
      ]
     },
     "metadata": {},
     "output_type": "display_data"
    },
    {
     "name": "stdout",
     "output_type": "stream",
     "text": [
      "$ 109.9511\" x 21\" print of the May 29, 2018 San Francisco Chronicle Sporting Green cover highlighting the Warriors' 2018 Western Conference Game #7 vs. the RocketsThe high-quality image is available in three ways:printed on matte finish canvas and wrapped around a 1\" thick black framelaminated and mounted as a plaque .\n",
      "and mounted as a plaque printed on matte finish paper and ready for framing (unframed print is 12 1/2\" x 24\").\n",
      "Items printed and shipped fromFree shipping!\n",
      "* Shipping for DURAPLAQ items takes 15-20 days.\n",
      "84 ) Warriors 2018 NBA Western Conference Finals Game 7 win - 5/29/18 newspaper cover\n"
     ]
    },
    {
     "data": {
      "text/html": [
       "<img src=\"http://cdn.shopify.com/s/files/1/0668/2853/products/SFC-Warriors-2018-WCF-Main-Cover-Mount_grande.jpg?v=1527603607\"/>"
      ],
      "text/plain": [
       "<IPython.core.display.Image object>"
      ]
     },
     "metadata": {},
     "output_type": "display_data"
    },
    {
     "name": "stdout",
     "output_type": "stream",
     "text": [
      "$ 109.9511\" x 21\" print of the May 29, 2018 San Francisco Chronicle cover highlighting the Warriors' 2018 Western Conference Game #7 vs. the RocketsThe high-quality image is available in three ways:printed on matte finish canvas and wrapped around a 1\" thick black framelaminated and mounted as a plaque .\n",
      "and mounted as a plaque printed on matte finish paper and ready for framing (unframed print is 12 1/2\" x 24\").\n",
      "Items printed and shipped fromFree shipping!\n",
      "* Shipping for DURAPLAQ items takes 15-20 days.\n",
      "85 ) Warriors 2018 NBA Finals Game 4 Sweep - 6/9/18 sporting green cover\n"
     ]
    },
    {
     "data": {
      "text/html": [
       "<img src=\"http://cdn.shopify.com/s/files/1/0668/2853/products/SFC-Warriors-2018-Finals-Win-SG-Cover-Mount_grande.jpg?v=1528530060\"/>"
      ],
      "text/plain": [
       "<IPython.core.display.Image object>"
      ]
     },
     "metadata": {},
     "output_type": "display_data"
    },
    {
     "name": "stdout",
     "output_type": "stream",
     "text": [
      "$ 109.9511\" x 21\" print of June 9, 2018, San Francisco Chronicle Sporting Green cover highlighting our exclusive coverage of the Warriors epic win in Game 4 over the Cavaliers to capture third NBA title in four seasons.\n",
      "The high-quality image is available in three ways:printed on matte finish canvas and wrapped around a 1\" thick black framelaminated and mounted as a plaque .\n",
      "and mounted as a plaque printed on matte finish paper and ready for framing (unframed print is 12 1/2\" x 24\").\n",
      "Items printed and shipped fromFree shipping!\n",
      "* Shipping for DURAPLAQ items takes 15-20 days.\n",
      "89 ) San Francisco Chronicle - Top 100 Restaurants 2018\n"
     ]
    },
    {
     "data": {
      "text/html": [
       "<img src=\"http://cdn.shopify.com/s/files/1/0668/2853/products/Screen_Shot_2018-04-25_at_12.47.46_PM_grande.png?v=1524685897\"/>"
      ],
      "text/plain": [
       "<IPython.core.display.Image object>"
      ]
     },
     "metadata": {},
     "output_type": "display_data"
    },
    {
     "name": "stdout",
     "output_type": "stream",
     "text": [
      "$ 9.95Join Michael Bauer, the San Francisco Chronicle restaurant critic and editor at large as he reviews his picks for the Top 100 Restaurants in the San Francisco Bay Area.\n",
      "In this 23rd edition, he’s added 18 new restaurants.\n",
      "Each restaurant features Michael's review as well as detailed information on the cuisine, specialties, seating, prices, parking and other vitals you need to choose your perfect destination.\n",
      "San Francisco Chronicle subscribers will receive the Top 100 magazine as part of their subscription on Sunday, April 29th.\n",
      "Click here to get instant access to the Top 100 online!\n",
      "57 articles have more than 500 words \n"
     ]
    }
   ],
   "source": [
    "count=0\n",
    "for i in range(1,num_articles):\n",
    "    if len(article_list[i][\"text\"])>500:\n",
    "        count+=1\n",
    "        print(i, \")\", article_list[i][\"title\"])\n",
    "        article_list[i][\"url\"]\n",
    "        article_list[i][\"title\"]\n",
    "        display(Image(url=article_list[i][\"top_image\"]))\n",
    "        print(article_list[i][\"summary\"])\n",
    "    \n",
    "print(count,\"articles have more than 500 words \")\n"
   ]
  },
  {
   "cell_type": "markdown",
   "metadata": {},
   "source": [
    "These many articles have more than 500 words."
   ]
  },
  {
   "cell_type": "markdown",
   "metadata": {},
   "source": [
    "<blockquote style=\"border: 2px solid #666; padding: 10px; background-color: #ccc;\"><b>Question 2:</b> \n",
    "Newspaper Info Analysis</blockquote>"
   ]
  },
  {
   "cell_type": "markdown",
   "metadata": {},
   "source": [
    "<span style=\"background-color: #FFFF00\">Your answer here</span>"
   ]
  },
  {
   "cell_type": "code",
   "execution_count": 128,
   "metadata": {},
   "outputs": [],
   "source": [
    "food =[\"food\",\"fishing\",\"restaurant\",\"vegetarian\",\"salad\",\"food trucks\",\"drinking\",\"bar\",\"cafe\",\"pizza\"]\n",
    "biztech=[\"market\",\"business\",\"technology\",\"companies\",\"start-up\"]\n",
    "politics=[\"elections\",\"mayor\", \"votes\",\"law\",\"politics\",\"politician\",\"impeachment\",\"president\",\"law makers\"]\n",
    "local= [\"bay area\",\"crime\",\"wildfire\",\"san francisco\",\"local\"]\n",
    "sports= [\"giants\",\"warriors\",\"49ers\",\"raiders\",\"sharks\",\"cal\",\"sports\"]"
   ]
  },
  {
   "cell_type": "markdown",
   "metadata": {},
   "source": [
    "The 5 list of categories are <b>food, biztech, politics, local and sports</b>"
   ]
  },
  {
   "cell_type": "markdown",
   "metadata": {},
   "source": [
    "<span style=\"background-color: #FFFF00\">Your answer here</span>"
   ]
  },
  {
   "cell_type": "code",
   "execution_count": 129,
   "metadata": {},
   "outputs": [
    {
     "name": "stdout",
     "output_type": "stream",
     "text": [
      "21 food : https://datebook.sfchronicle.com/guide/10-san-francisco-spots-to-toast-and-get-toasty-by-a-fireplace\n",
      "21 food : https://datebook.sfchronicle.com/guide/10-san-francisco-spots-to-toast-and-get-toasty-by-a-fireplace\n",
      "25 food : https://datebook.sfchronicle.com/music/peaches-crew-celebrates-10-years-of-women-behind-the-turntable\n",
      "28 food : https://datebook.sfchronicle.com/art-exhibits/oakland-museums-burning-man-exhibition-tries-retelling-a-dream\n",
      "52 food : https://sfchronicle.myshopify.com/products/san-francisco-chronicle-top-100-restaurants-2019\n",
      "89 food : https://sfchronicle.myshopify.com/products/san-francisco-chronicle-top-100-restaurants-2018\n"
     ]
    }
   ],
   "source": [
    "for i in range(1,num_articles):\n",
    "    clean = article_list[i][\"text\"].replace(\"\\n\",\"\")\n",
    "    clean = clean.lower()\n",
    "    word_list= clean.split(\" \")\n",
    "    for j in range(1,len(food)):\n",
    "        if food[j] in word_list:\n",
    "            print(i,\"food\", \":\", article_list[i][\"url\"])\n",
    "        \n",
    "    "
   ]
  },
  {
   "cell_type": "markdown",
   "metadata": {},
   "source": [
    "This all indices of articles belongs to category <b>food</b>."
   ]
  },
  {
   "cell_type": "code",
   "execution_count": 111,
   "metadata": {},
   "outputs": [
    {
     "name": "stdout",
     "output_type": "stream",
     "text": [
      "5 biztech : https://datebook.sfchronicle.com/movies-tv/scorsese-and-coppola-are-right-the-marvel-comics-movies-are-not-cinema\n",
      "10 biztech : https://datebook.sfchronicle.com/movies-tv/review-scorseses-irishman-is-a-masterpiece-the-end-of-an-era-for-mob-movies\n",
      "24 biztech : https://datebook.sfchronicle.com/music/meet-the-peaches-crew-the-bay-area-dj-collective-that-puts-ladies-first\n",
      "35 biztech : https://datebook.sfchronicle.com/books/review-tamim-ansarys-yesterday-shows-us-how-the-present-reflects-the-past\n",
      "43 biztech : https://projects.sfchronicle.com/2018/stem-cells/politics/\n",
      "45 biztech : https://projects.sfchronicle.com/2018/stem-cells/clinics/\n",
      "46 biztech : http://projects.sfchronicle.com/2018/stem-cells/jordan\n"
     ]
    }
   ],
   "source": [
    "for i in range(1,num_articles):\n",
    "    clean = article_list[i][\"text\"].replace(\"\\n\",\"\")\n",
    "    clean = clean.lower()\n",
    "    word_list= clean.split(\" \")\n",
    "    co=0\n",
    "    for j in range(1,len(biztech)):\n",
    "        if biztech[j] in word_list and co==0:\n",
    "            print(i,\"biztech\", \":\", article_list[i][\"url\"])\n",
    "            co=1"
   ]
  },
  {
   "cell_type": "markdown",
   "metadata": {},
   "source": [
    "This all indices of articles belongs to category <b>biztech</b>."
   ]
  },
  {
   "cell_type": "code",
   "execution_count": 117,
   "metadata": {
    "scrolled": true
   },
   "outputs": [
    {
     "name": "stdout",
     "output_type": "stream",
     "text": [
      "1 politics : https://www.ebookit.com/tools/pd/Bo/eBookIt/booktitle-The-Fisherman-s-Secret-audiobook\n",
      "2 politics : https://projects.sfchronicle.com/2019/voter-guide/\n",
      "26 politics : https://datebook.sfchronicle.com/theater/why-you-should-see-theater-in-languages-you-dont-speak\n",
      "43 politics : https://projects.sfchronicle.com/2018/stem-cells/politics/\n",
      "44 politics : https://projects.sfchronicle.com/2018/stem-cells/research/\n",
      "45 politics : https://projects.sfchronicle.com/2018/stem-cells/clinics/\n"
     ]
    }
   ],
   "source": [
    "for i in range(1,num_articles):\n",
    "    clean = article_list[i][\"text\"].replace(\"\\n\",\"\")\n",
    "    clean = clean.lower()\n",
    "    word_list= clean.split(\" \")\n",
    "    co=0\n",
    "    for j in range(1,len(politics)):\n",
    "        if politics[j] in word_list and co==0:\n",
    "            print(i,\"politics\", \":\", article_list[i][\"url\"])\n",
    "            co=1\n",
    "            "
   ]
  },
  {
   "cell_type": "markdown",
   "metadata": {},
   "source": [
    "This all indices of articles belongs to category <b>politics</b>."
   ]
  },
  {
   "cell_type": "code",
   "execution_count": 118,
   "metadata": {
    "scrolled": true
   },
   "outputs": [
    {
     "name": "stdout",
     "output_type": "stream",
     "text": [
      "4 local : https://datebook.sfchronicle.com/music/blanket-the-homeless-album-concert-aims-to-assist-in-bay-area-homeless-crisis\n",
      "10 local : https://datebook.sfchronicle.com/movies-tv/review-scorseses-irishman-is-a-masterpiece-the-end-of-an-era-for-mob-movies\n",
      "19 local : https://datebook.sfchronicle.com/guide/12-bay-area-concerts-to-get-you-into-the-holiday-spirit\n",
      "37 local : https://datebook.sfchronicle.com/entertainment/amid-scary-blackouts-and-wildfires-this-home-has-all-treats-no-tricks\n"
     ]
    }
   ],
   "source": [
    "for i in range(1,num_articles):\n",
    "    clean = article_list[i][\"text\"].replace(\"\\n\",\"\")\n",
    "    clean = clean.lower()\n",
    "    word_list= clean.split(\" \")\n",
    "    co=0\n",
    "    for j in range(1,len(local)):\n",
    "        if local[j] in word_list and co==0:\n",
    "            print(i,\"local\", \":\", article_list[i][\"url\"])\n",
    "            co=1"
   ]
  },
  {
   "cell_type": "markdown",
   "metadata": {},
   "source": [
    "This all indices of articles belongs to category <b>local</b>."
   ]
  },
  {
   "cell_type": "code",
   "execution_count": 119,
   "metadata": {},
   "outputs": [
    {
     "name": "stdout",
     "output_type": "stream",
     "text": [
      "8 sports : https://datebook.sfchronicle.com/movies-tv/this-isnt-a-feel-good-movie-fire-in-paradise-doc-a-cautionary-tale\n",
      "23 sports : https://datebook.sfchronicle.com/music/review-michael-nymans-music-excavates-old-instruments-but-the-mix-is-off\n",
      "45 sports : https://projects.sfchronicle.com/2018/stem-cells/clinics/\n",
      "46 sports : http://projects.sfchronicle.com/2018/stem-cells/jordan\n",
      "48 sports : https://sfchronicle.myshopify.com/collections/giants-dynasty-world-series-win-covers\n",
      "56 sports : https://sfchronicle.myshopify.com/products/warriors-nba-2019-finals-preview-t-shirt-white\n",
      "57 sports : https://sfchronicle.myshopify.com/products/warriors-2019-nba-finals-preview-5-30-19-sporting-green-cover\n",
      "58 sports : https://sfchronicle.myshopify.com/products/warriors-2019-nba-finals-preview-sporting-green-5-30-19-newspaper\n",
      "63 sports : https://sfchronicle.myshopify.com/products/warriors-the-oakland-years-2018-19-season-preview-magazine\n",
      "67 sports : https://sfchronicle.myshopify.com/products/warriors-2018-nba-golden-dynasty-finals-authentic-press-plate-6-9-18-newspaper\n",
      "68 sports : https://sfchronicle.myshopify.com/products/warriors-2015-2017-2018-championship-wins\n",
      "69 sports : https://sfchronicle.myshopify.com/products/warriors-2018-nba-win-display-print\n",
      "70 sports : https://sfchronicle.myshopify.com/products/warriors-1975-2015-2017-2018-championship-wins\n",
      "71 sports : https://sfchronicle.myshopify.com/products/warriors-2018-nba-commemorative-edition-newspaper-6-14-18-cover\n",
      "72 sports : https://sfchronicle.myshopify.com/products/warriors-2018-nba-commemorative-edition-t-shirt\n",
      "73 sports : https://sfchronicle.myshopify.com/products/warriors-2018-nba-commemorative-edition-6-14-18-c\n",
      "74 sports : https://sfchronicle.myshopify.com/products/warriors-2018-nba-parade-extra-6-12-18-commemorative-newspaper\n",
      "75 sports : https://sfchronicle.myshopify.com/products/warriors-2018-parade-extra-6-12-18-newspaper-cover-print\n",
      "76 sports : https://sfchronicle.myshopify.com/products/warriors-2018-nba-championship-puzzle\n",
      "77 sports : https://sfchronicle.myshopify.com/products/warriors-2018-nba-finals-game-4-t-shirt\n",
      "78 sports : https://sfchronicle.myshopify.com/products/warriors-2018-nba-finals-preview-5-31-18-sporting-green-cover\n",
      "79 sports : https://sfchronicle.myshopify.com/products/warriors-nba-2018-finals-preview-t-shirt\n",
      "80 sports : https://sfchronicle.myshopify.com/products/warriors-nba-finals-game-4-6-9-18-newspaper-cover\n",
      "81 sports : https://sfchronicle.myshopify.com/products/warriors-nba-finals-game-1-6-1-18-newspaper-cover\n",
      "82 sports : https://sfchronicle.myshopify.com/products/copy-of-warriors-nba-finals-game-2-6-4-18-newspaper-cover\n",
      "85 sports : https://sfchronicle.myshopify.com/products/copy-of-warriors-nba-finals-game-4-6-9-18-newspaper\n",
      "86 sports : https://sfchronicle.myshopify.com/products/warriors-nba-finals-game-3-6-4-18-newspaper\n",
      "87 sports : https://sfchronicle.myshopify.com/products/warriors-nba-finals-game-2-win-6-4-18-newspaper\n",
      "88 sports : https://sfchronicle.myshopify.com/products/warriors-nba-finals-game-1-win-6-1-18-newspaper\n",
      "90 sports : https://sfchronicle.myshopify.com/products/stephen-curry-stats-at-30-warriors\n"
     ]
    }
   ],
   "source": [
    "for i in range(1,num_articles):\n",
    "    clean = article_list[i][\"text\"].replace(\"\\n\",\"\")\n",
    "    clean = clean.lower()\n",
    "    word_list= clean.split(\" \")\n",
    "    co=0\n",
    "    for j in range(1,len(sports)):\n",
    "        if sports[j] in word_list and co==0:\n",
    "            print(i,\"sports\", \":\", article_list[i][\"url\"])\n",
    "            co=1\n",
    "        "
   ]
  },
  {
   "cell_type": "markdown",
   "metadata": {},
   "source": [
    "This all indices of articles belongs to category <b>sports</b>."
   ]
  }
 ],
 "metadata": {
  "kernelspec": {
   "display_name": "Python 3",
   "language": "python",
   "name": "python3"
  },
  "language_info": {
   "codemirror_mode": {
    "name": "ipython",
    "version": 3
   },
   "file_extension": ".py",
   "mimetype": "text/x-python",
   "name": "python",
   "nbconvert_exporter": "python",
   "pygments_lexer": "ipython3",
   "version": "3.7.3"
  }
 },
 "nbformat": 4,
 "nbformat_minor": 1
}
